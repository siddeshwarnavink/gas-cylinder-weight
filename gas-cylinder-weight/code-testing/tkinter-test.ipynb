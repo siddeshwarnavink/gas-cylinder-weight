{
 "cells": [
  {
   "cell_type": "code",
   "execution_count": 79,
   "metadata": {},
   "outputs": [
    {
     "ename": "KeyboardInterrupt",
     "evalue": "",
     "output_type": "error",
     "traceback": [
      "\u001b[1;31m---------------------------------------------------------------------------\u001b[0m",
      "\u001b[1;31mKeyboardInterrupt\u001b[0m                         Traceback (most recent call last)",
      "Cell \u001b[1;32mIn[79], line 65\u001b[0m\n\u001b[0;32m     62\u001b[0m     root\u001b[39m.\u001b[39mmainloop()\n\u001b[0;32m     64\u001b[0m \u001b[39m# Replace 'path_to_image' with the path to your image file\u001b[39;00m\n\u001b[1;32m---> 65\u001b[0m display_opencv_image()\n",
      "Cell \u001b[1;32mIn[79], line 62\u001b[0m, in \u001b[0;36mdisplay_opencv_image\u001b[1;34m()\u001b[0m\n\u001b[0;32m     59\u001b[0m next_button\u001b[39m.\u001b[39mgrid(row\u001b[39m=\u001b[39m\u001b[39m3\u001b[39m, column\u001b[39m=\u001b[39m\u001b[39m1\u001b[39m, padx\u001b[39m=\u001b[39m\u001b[39m5\u001b[39m, pady\u001b[39m=\u001b[39m\u001b[39m10\u001b[39m)\n\u001b[0;32m     61\u001b[0m \u001b[39m# Run the Tkinter main loop\u001b[39;00m\n\u001b[1;32m---> 62\u001b[0m root\u001b[39m.\u001b[39;49mmainloop()\n",
      "File \u001b[1;32mC:\\Program Files\\WindowsApps\\PythonSoftwareFoundation.Python.3.11_3.11.1264.0_x64__qbz5n2kfra8p0\\Lib\\tkinter\\__init__.py:1485\u001b[0m, in \u001b[0;36mMisc.mainloop\u001b[1;34m(self, n)\u001b[0m\n\u001b[0;32m   1483\u001b[0m \u001b[39mdef\u001b[39;00m \u001b[39mmainloop\u001b[39m(\u001b[39mself\u001b[39m, n\u001b[39m=\u001b[39m\u001b[39m0\u001b[39m):\n\u001b[0;32m   1484\u001b[0m \u001b[39m    \u001b[39m\u001b[39m\"\"\"Call the mainloop of Tk.\"\"\"\u001b[39;00m\n\u001b[1;32m-> 1485\u001b[0m     \u001b[39mself\u001b[39m\u001b[39m.\u001b[39mtk\u001b[39m.\u001b[39mmainloop(n)\n",
      "\u001b[1;31mKeyboardInterrupt\u001b[0m: "
     ]
    }
   ],
   "source": [
    "import cv2\n",
    "import tkinter as tk\n",
    "from tkinter import Entry, Button, Label\n",
    "from matplotlib.backends.backend_tkagg import FigureCanvasTkAgg\n",
    "from matplotlib.figure import Figure\n",
    "\n",
    "def get_cv_image():\n",
    "    # Read the image using OpenCV\n",
    "    image = cv2.imread('../images/Cylinder_image.jpg')\n",
    "\n",
    "    # Convert the BGR image to RGB\n",
    "    image = cv2.cvtColor(image, cv2.COLOR_BGR2RGB)\n",
    "\n",
    "    return image\n",
    "\n",
    "def display_opencv_image():\n",
    "    image=get_cv_image()\n",
    "\n",
    "    # Create a Figure and Axes to display the image\n",
    "    fig = Figure(figsize=(5, 4), dpi=100)\n",
    "    ax = fig.add_subplot(1, 1, 1)\n",
    "    ax.imshow(image)\n",
    "\n",
    "    # Create the main Tkinter window\n",
    "    root = tk.Tk()\n",
    "    root.title(\"OpenCV Image in Tkinter\")\n",
    "\n",
    "    # Create a Tkinter canvas for displaying the image\n",
    "    canvas = FigureCanvasTkAgg(fig, master=root)\n",
    "    canvas.draw()\n",
    "\n",
    "    # Pack the canvas in the first row and first two columns of the grid\n",
    "    canvas.get_tk_widget().grid(row=0, column=0, columnspan=2)\n",
    "\n",
    "    # Create labels and Entry widgets for the inputs\n",
    "    label1 = Label(root, text=\"Input 1:\")\n",
    "    label1.grid(row=1, column=0, padx=5, pady=5)\n",
    "    entry1 = Entry(root)\n",
    "    entry1.grid(row=1, column=1, padx=5, pady=5)\n",
    "\n",
    "    label2 = Label(root, text=\"Input 2:\")\n",
    "    label2.grid(row=2, column=0, padx=5, pady=5)\n",
    "    entry2 = Entry(root)\n",
    "    entry2.grid(row=2, column=1, padx=5, pady=5)\n",
    "\n",
    "    # Create 'Back' and 'Next' buttons\n",
    "    def on_back_click():\n",
    "        print(\"Back button clicked\")\n",
    "        # Add your back button functionality here\n",
    "\n",
    "    def on_next_click():\n",
    "        print(\"Next button clicked\")\n",
    "        # Add your next button functionality here\n",
    "\n",
    "    back_button = Button(root, text=\"Back\", command=on_back_click)\n",
    "    back_button.grid(row=3, column=0, padx=5, pady=10)\n",
    "\n",
    "    next_button = Button(root, text=\"Next\", command=on_next_click)\n",
    "    next_button.grid(row=3, column=1, padx=5, pady=10)\n",
    "\n",
    "    # Run the Tkinter main loop\n",
    "    root.mainloop()\n",
    "\n",
    "# Replace 'path_to_image' with the path to your image file\n",
    "display_opencv_image()\n"
   ]
  }
 ],
 "metadata": {
  "kernelspec": {
   "display_name": "Python 3",
   "language": "python",
   "name": "python3"
  },
  "language_info": {
   "codemirror_mode": {
    "name": "ipython",
    "version": 3
   },
   "file_extension": ".py",
   "mimetype": "text/x-python",
   "name": "python",
   "nbconvert_exporter": "python",
   "pygments_lexer": "ipython3",
   "version": "3.11.4"
  },
  "orig_nbformat": 4
 },
 "nbformat": 4,
 "nbformat_minor": 2
}
